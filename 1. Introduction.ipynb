{
 "cells": [
  {
   "cell_type": "markdown",
   "metadata": {
    "slideshow": {
     "slide_type": "slide"
    }
   },
   "source": [
    "# Introduction to Julia\n",
    "## HackTheMachine 09/22/2017\n",
    "\n",
    "---\n",
    "\n",
    "### by Valentin Churavy and Viral Shah"
   ]
  },
  {
   "cell_type": "markdown",
   "metadata": {
    "collapsed": true,
    "slideshow": {
     "slide_type": "slide"
    }
   },
   "source": [
    "# Who are we?\n",
    "\n",
    "## Viral Shah\n",
    "CEO of Julia Computing and co-founder of Julia.\n",
    "\n",
    "## Valentin Churavy\n",
    "PhD Student at CSAIL/MIT, Julia developer since 2013\n",
    "- Previously doing applied machine learning and research in neurocybernetics.\n",
    "- Primary interests: GPUs, HPC and fast code for humans\n"
   ]
  },
  {
   "cell_type": "markdown",
   "metadata": {
    "collapsed": true,
    "slideshow": {
     "slide_type": "slide"
    }
   },
   "source": [
    "# Quote of the day:\n",
    "R is what great data scientists are using today, but Julia is what they’ll be using tomorrow."
   ]
  },
  {
   "cell_type": "markdown",
   "metadata": {
    "slideshow": {
     "slide_type": "slide"
    }
   },
   "source": [
    "# Following along!\n",
    "1. Use https://juliabox.org to get a cloud instance of Jupyter with Julia\n",
    "2. Follow the instructions on https://julialang.org/downloads/\n",
    "3. Julia will be installed in the environment provided during HackTheMachine"
   ]
  },
  {
   "cell_type": "markdown",
   "metadata": {
    "slideshow": {
     "slide_type": "subslide"
    }
   },
   "source": [
    "1. To use Jupyter install IJulia.jl https://github.com/JuliaLang/IJulia.jl\n",
    "2. VSCode has great Julia support"
   ]
  },
  {
   "cell_type": "markdown",
   "metadata": {
    "slideshow": {
     "slide_type": "slide"
    }
   },
   "source": [
    "# What is Julia?\n",
    "\n",
    "\n",
    "Julia is a high-level modern dynamic programming language, that is inspired by a long line of programming languages like Fortran, Lisp/Scheme, Python, R (and Matlab).\n",
    "\n",
    "- Julia Manifesto: https://julialang.org/blog/2012/02/why-we-created-julia\n",
    "- Noteworthy differences: https://docs.julialang.org/en/latest/manual/noteworthy-differences/\n",
    "- The Julia promise: Within 2x of C at the ease of Python"
   ]
  },
  {
   "cell_type": "markdown",
   "metadata": {
    "slideshow": {
     "slide_type": "subslide"
    }
   },
   "source": [
    "## What Julia isn't\n",
    "- Object-oriented\n",
    "- Complicated\n",
    "- Slow\n",
    "- Boring"
   ]
  },
  {
   "cell_type": "markdown",
   "metadata": {
    "slideshow": {
     "slide_type": "slide"
    }
   },
   "source": [
    "# What are we going to talk about\n",
    "1. Minimal Julia\n",
    "2. Is Julia fast? Julia is fast.\n",
    "3. Custom types e.g. AD in 8 lines\n",
    "4. A peek behind the curtain\n",
    "7. Random Forest\n",
    "8. SVDs in Julia"
   ]
  },
  {
   "cell_type": "markdown",
   "metadata": {
    "collapsed": true,
    "slideshow": {
     "slide_type": "slide"
    }
   },
   "source": [
    "# Why do I use Julia (or speed isn't everything)\n",
    "- Elegant\n",
    "- Explorable & Understandable\n",
    "- No privileged types/code\n",
    "- No need to switch languages\n"
   ]
  },
  {
   "cell_type": "markdown",
   "metadata": {
    "slideshow": {
     "slide_type": "slide"
    }
   },
   "source": [
    "# What is the 2 language problem?\n",
    "You start out proto-typing in one language (high-level, dynamic),\n",
    "but performance forces you to switch to a different one (low-level, static)."
   ]
  },
  {
   "cell_type": "markdown",
   "metadata": {
    "slideshow": {
     "slide_type": "subslide"
    }
   },
   "source": [
    "- For **convinience** use a scripting language (Python, R, Matlab, ...)\n",
    "- but do all the **hard stuff** in a systems language (C, C++, Fortran)"
   ]
  },
  {
   "cell_type": "markdown",
   "metadata": {
    "slideshow": {
     "slide_type": "subslide"
    }
   },
   "source": [
    "Pragmatic for many applications, but has drawbacks\n",
    "- aren't the **hard parts** exactly where you need an **easier** language\n",
    "- creates a **social barrier** -- a wall between users and developers\n",
    "- **\"sandwich problem\"** -- layering of system & user code is expensive\n",
    "- **prohibits** full stack optimisations"
   ]
  },
  {
   "cell_type": "markdown",
   "metadata": {
    "slideshow": {
     "slide_type": "slide"
    }
   },
   "source": [
    "# The 2+n language problem in machine learning\n",
    "The situation in machine learning is actually even more convoluted.\n",
    "A project might have many more than just two languages involved.\n",
    "\n",
    "- First a system language in which the majority of code is written.\n",
    "- Second a high-level language for users.\n",
    "- Thirdly a **D**omain **S**pecific **L**anguage to specify models.\n",
    "- One or more low-level dialects of C/C++ (CUDA, OpenCL) to accelerate operations."
   ]
  },
  {
   "cell_type": "markdown",
   "metadata": {
    "slideshow": {
     "slide_type": "subslide"
    }
   },
   "source": [
    "Solution: Julia all they way down.\n",
    "- Machine-Learning with Knet.jl https://github.com/denizyuret/Knet.jl\n",
    "- GPU programming with CUDAnative.jl: https://julialang.org/blog/2017/03/cudanative"
   ]
  },
  {
   "cell_type": "markdown",
   "metadata": {
    "slideshow": {
     "slide_type": "slide"
    }
   },
   "source": [
    "# Sidenote: Foreign Function Interface\n",
    "There is no reason to abandon your old code completely, due to Julia's foreign function interface to:\n",
    "- C\n",
    "- Fortran\n",
    "- Python\n",
    "- C++\n",
    "- (and more)\n",
    "\n",
    "If you are interested in this, talk to us later!"
   ]
  },
  {
   "cell_type": "markdown",
   "metadata": {
    "slideshow": {
     "slide_type": "slide"
    }
   },
   "source": [
    "# Basic Julia\n",
    "\n",
    "## Function and Blocks\n",
    "```julia\n",
    "function sum(X)\n",
    "    acc = zero(eltype(X))\n",
    "    for x in X\n",
    "        acc += x\n",
    "    end\n",
    "    return x\n",
    "end\n",
    "```"
   ]
  },
  {
   "cell_type": "markdown",
   "metadata": {
    "slideshow": {
     "slide_type": "subslide"
    }
   },
   "source": [
    "## Array indexes start at one.\n",
    "```julia\n",
    "X = rand(10)\n",
    "for i in 1:10\n",
    "  @show x[i]\n",
    "end\n",
    "```"
   ]
  },
  {
   "cell_type": "markdown",
   "metadata": {
    "slideshow": {
     "slide_type": "subslide"
    }
   },
   "source": [
    "## Macros\n",
    "Macros are syntax transformations and are a form of metaprogramming.\n",
    "In Julia they always start with `@`.\n",
    "\n",
    "```julia\n",
    "\n",
    "@time sum(rand(10))\n",
    "@macroexpand @time sum(rand(10))\n",
    "```"
   ]
  },
  {
   "cell_type": "markdown",
   "metadata": {
    "slideshow": {
     "slide_type": "subslide"
    }
   },
   "source": [
    "## Broadcast and dotfusion\n",
    "If you are used to matlab than the following will look familiar.\n",
    "```julia\n",
    "A = rand(10)\n",
    "B = rand(10)\n",
    "A .= sin.(A) .+ B ./ A\n",
    "```\n",
    "Dots signify elementwise operations and we can fuse together these elementwise operations which will turn the above line to:\n",
    "\n",
    "```julia\n",
    "broadcast!((x, y) -> sin(x) + y / a, A, A, B)\n",
    "```\n",
    "\n",
    "This is similar to Matlab with a key difference being that it will work for user defined functions as well. Learn more at https://julialang.org/blog/2017/01/moredots"
   ]
  },
  {
   "cell_type": "markdown",
   "metadata": {
    "slideshow": {
     "slide_type": "slide"
    }
   },
   "source": [
    "![Speed](speed.png)"
   ]
  },
  {
   "cell_type": "markdown",
   "metadata": {
    "slideshow": {
     "slide_type": "slide"
    }
   },
   "source": [
    "![Speed vs Productivity](speed_vs_productivity.png)"
   ]
  }
 ],
 "metadata": {
  "celltoolbar": "Slideshow",
  "kernelspec": {
   "display_name": "Julia 0.6.0",
   "language": "julia",
   "name": "julia-0.6"
  },
  "language_info": {
   "file_extension": ".jl",
   "mimetype": "application/julia",
   "name": "julia",
   "version": "0.6.0"
  }
 },
 "nbformat": 4,
 "nbformat_minor": 2
}
